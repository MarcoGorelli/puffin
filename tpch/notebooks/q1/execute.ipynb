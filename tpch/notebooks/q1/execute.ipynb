{
 "cells": [
  {
   "cell_type": "code",
   "execution_count": null,
   "id": "0",
   "metadata": {
    "papermill": {
     "duration": 33.390992,
     "end_time": "2024-03-22T17:24:15.601719",
     "exception": false,
     "start_time": "2024-03-22T17:23:42.210727",
     "status": "completed"
    },
    "tags": []
   },
   "outputs": [],
   "source": [
    "!pip uninstall apache-beam -y && pip install -U pandas polars pyarrow narwhals dask[dataframe]"
   ]
  },
  {
   "cell_type": "code",
   "execution_count": null,
   "id": "1",
   "metadata": {
    "papermill": {
     "duration": 0.907754,
     "end_time": "2024-03-22T17:24:39.053873",
     "exception": false,
     "start_time": "2024-03-22T17:24:38.146119",
     "status": "completed"
    },
    "tags": []
   },
   "outputs": [],
   "source": [
    "import pandas as pd\n",
    "import polars as pl\n",
    "\n",
    "pd.options.mode.copy_on_write = True\n",
    "pd.options.future.infer_string = True"
   ]
  },
  {
   "cell_type": "code",
   "execution_count": null,
   "id": "2",
   "metadata": {
    "papermill": {
     "duration": 0.021725,
     "end_time": "2024-03-22T17:24:39.080999",
     "exception": false,
     "start_time": "2024-03-22T17:24:39.059274",
     "status": "completed"
    },
    "tags": []
   },
   "outputs": [],
   "source": [
    "from datetime import datetime\n",
    "from typing import Any\n",
    "\n",
    "import narwhals as nw\n",
    "\n",
    "\n",
    "@nw.narwhalify\n",
    "def q1(lineitem_ds: Any) -> Any:\n",
    "    var_1 = datetime(1998, 9, 2)\n",
    "    return (\n",
    "        lineitem_ds.filter(nw.col(\"l_shipdate\") <= var_1)\n",
    "        .with_columns(\n",
    "            disc_price=nw.col(\"l_extendedprice\") * (1 - nw.col(\"l_discount\")),\n",
    "            charge=(\n",
    "                nw.col(\"l_extendedprice\")\n",
    "                * (1.0 - nw.col(\"l_discount\"))\n",
    "                * (1.0 + nw.col(\"l_tax\"))\n",
    "            ),\n",
    "        )\n",
    "        .group_by(\"l_returnflag\", \"l_linestatus\")\n",
    "        .agg(\n",
    "            nw.col(\"l_quantity\").sum().alias(\"sum_qty\"),\n",
    "            nw.col(\"l_extendedprice\").sum().alias(\"sum_base_price\"),\n",
    "            nw.col(\"disc_price\").sum().alias(\"sum_disc_price\"),\n",
    "            nw.col(\"charge\").sum().alias(\"sum_charge\"),\n",
    "            nw.col(\"l_quantity\").mean().alias(\"avg_qty\"),\n",
    "            nw.col(\"l_extendedprice\").mean().alias(\"avg_price\"),\n",
    "            nw.col(\"l_discount\").mean().alias(\"avg_disc\"),\n",
    "            nw.len().alias(\"count_order\"),\n",
    "        )\n",
    "        .sort(\"l_returnflag\", \"l_linestatus\")\n",
    "    )"
   ]
  },
  {
   "cell_type": "code",
   "execution_count": null,
   "id": "3",
   "metadata": {
    "papermill": {
     "duration": 0.013325,
     "end_time": "2024-03-22T17:24:39.099766",
     "exception": false,
     "start_time": "2024-03-22T17:24:39.086441",
     "status": "completed"
    },
    "tags": []
   },
   "outputs": [],
   "source": [
    "dir_ = \"/kaggle/input/tpc-h-data-parquet-s-2/\"\n",
    "region = dir_ + \"region.parquet\"\n",
    "nation = dir_ + \"nation.parquet\"\n",
    "customer = dir_ + \"customer.parquet\"\n",
    "lineitem = dir_ + \"lineitem.parquet\"\n",
    "orders = dir_ + \"orders.parquet\"\n",
    "supplier = dir_ + \"supplier.parquet\"\n",
    "part = dir_ + \"part.parquet\"\n",
    "partsupp = dir_ + \"partsupp.parquet\""
   ]
  },
  {
   "cell_type": "code",
   "execution_count": null,
   "id": "4",
   "metadata": {
    "papermill": {
     "duration": 0.014284,
     "end_time": "2024-03-22T17:24:39.119737",
     "exception": false,
     "start_time": "2024-03-22T17:24:39.105453",
     "status": "completed"
    },
    "tags": []
   },
   "outputs": [],
   "source": [
    "import dask.dataframe as dd\n",
    "import pyarrow.parquet as pq\n",
    "\n",
    "IO_FUNCS = {\n",
    "    \"pandas\": lambda x: pd.read_parquet(x, engine=\"pyarrow\"),\n",
    "    \"pandas[pyarrow]\": lambda x: pd.read_parquet(\n",
    "        x, engine=\"pyarrow\", dtype_backend=\"pyarrow\"\n",
    "    ),\n",
    "    \"polars[eager]\": lambda x: pl.read_parquet(x),\n",
    "    \"polars[lazy]\": lambda x: pl.scan_parquet(x),\n",
    "    \"pyarrow\": lambda x: pq.read_table(x),\n",
    "    \"dask\": lambda x: dd.read_parquet(x, engine=\"pyarrow\", dtype_backend=\"pyarrow\"),\n",
    "}"
   ]
  },
  {
   "cell_type": "code",
   "execution_count": null,
   "id": "5",
   "metadata": {},
   "outputs": [],
   "source": [
    "results = {}"
   ]
  },
  {
   "cell_type": "markdown",
   "id": "6",
   "metadata": {},
   "source": [
    "## PyArrow.table"
   ]
  },
  {
   "cell_type": "code",
   "execution_count": null,
   "id": "7",
   "metadata": {},
   "outputs": [],
   "source": [
    "tool = \"pyarrow\"\n",
    "fn = IO_FUNCS[tool]\n",
    "timings = %timeit -o -q q1(fn(lineitem))\n",
    "results[tool] = timings.all_runs"
   ]
  },
  {
   "cell_type": "markdown",
   "id": "8",
   "metadata": {
    "papermill": {
     "duration": 0.005113,
     "end_time": "2024-03-22T17:24:39.130472",
     "exception": false,
     "start_time": "2024-03-22T17:24:39.125359",
     "status": "completed"
    },
    "tags": []
   },
   "source": [
    "## pandas"
   ]
  },
  {
   "cell_type": "code",
   "execution_count": null,
   "id": "9",
   "metadata": {
    "papermill": {
     "duration": 196.786925,
     "end_time": "2024-03-22T17:27:55.922832",
     "exception": false,
     "start_time": "2024-03-22T17:24:39.135907",
     "status": "completed"
    },
    "tags": []
   },
   "outputs": [],
   "source": [
    "tool = \"pandas\"\n",
    "fn = IO_FUNCS[tool]\n",
    "timings = %timeit -o -q q1(lineitem_ds=fn(lineitem))\n",
    "results[tool] = timings.all_runs"
   ]
  },
  {
   "cell_type": "markdown",
   "id": "10",
   "metadata": {
    "papermill": {
     "duration": 0.005184,
     "end_time": "2024-03-22T17:27:55.933407",
     "exception": false,
     "start_time": "2024-03-22T17:27:55.928223",
     "status": "completed"
    },
    "tags": []
   },
   "source": [
    "## pandas, pyarrow dtypes"
   ]
  },
  {
   "cell_type": "code",
   "execution_count": null,
   "id": "11",
   "metadata": {
    "papermill": {
     "duration": 158.748353,
     "end_time": "2024-03-22T17:30:34.688289",
     "exception": false,
     "start_time": "2024-03-22T17:27:55.939936",
     "status": "completed"
    },
    "tags": []
   },
   "outputs": [],
   "source": [
    "tool = \"pandas[pyarrow]\"\n",
    "fn = IO_FUNCS[tool]\n",
    "timings = %timeit -o -q q1(fn(lineitem))\n",
    "results[tool] = timings.all_runs"
   ]
  },
  {
   "cell_type": "markdown",
   "id": "12",
   "metadata": {
    "papermill": {
     "duration": 0.005773,
     "end_time": "2024-03-22T17:30:34.700300",
     "exception": false,
     "start_time": "2024-03-22T17:30:34.694527",
     "status": "completed"
    },
    "tags": []
   },
   "source": [
    "## Polars read_parquet"
   ]
  },
  {
   "cell_type": "code",
   "execution_count": null,
   "id": "13",
   "metadata": {
    "papermill": {
     "duration": 37.821116,
     "end_time": "2024-03-22T17:31:12.527466",
     "exception": false,
     "start_time": "2024-03-22T17:30:34.706350",
     "status": "completed"
    },
    "tags": []
   },
   "outputs": [],
   "source": [
    "tool = \"polars[eager]\"\n",
    "fn = IO_FUNCS[tool]\n",
    "timings = %timeit -o -q q1(fn(lineitem))\n",
    "results[tool] = timings.all_runs"
   ]
  },
  {
   "cell_type": "markdown",
   "id": "14",
   "metadata": {
    "papermill": {
     "duration": 0.005515,
     "end_time": "2024-03-22T17:31:12.539068",
     "exception": false,
     "start_time": "2024-03-22T17:31:12.533553",
     "status": "completed"
    },
    "tags": []
   },
   "source": [
    "## Polars scan_parquet"
   ]
  },
  {
   "cell_type": "code",
   "execution_count": null,
   "id": "15",
   "metadata": {
    "papermill": {
     "duration": 4.800698,
     "end_time": "2024-03-22T17:31:17.346813",
     "exception": false,
     "start_time": "2024-03-22T17:31:12.546115",
     "status": "completed"
    },
    "tags": []
   },
   "outputs": [],
   "source": [
    "tool = \"polars[lazy]\"\n",
    "fn = IO_FUNCS[tool]\n",
    "timings = %timeit -o -q q1(fn(lineitem)).collect()\n",
    "results[tool] = timings.all_runs"
   ]
  },
  {
   "cell_type": "markdown",
   "id": "16",
   "metadata": {},
   "source": [
    "## Dask Dataframe"
   ]
  },
  {
   "cell_type": "code",
   "execution_count": null,
   "id": "17",
   "metadata": {},
   "outputs": [],
   "source": [
    "tool = \"dask\"\n",
    "fn = IO_FUNCS[tool]\n",
    "timings = %timeit -o -q q1(fn(lineitem)).collect()\n",
    "results[tool] = timings.all_runs"
   ]
  },
  {
   "cell_type": "markdown",
   "id": "18",
   "metadata": {},
   "source": [
    "## Save"
   ]
  },
  {
   "cell_type": "code",
   "execution_count": null,
   "id": "19",
   "metadata": {},
   "outputs": [],
   "source": [
    "import json\n",
    "\n",
    "with open(\"results.json\", \"w\") as fd:\n",
    "    json.dump(results, fd)"
   ]
  }
 ],
 "metadata": {
  "kaggle": {
   "accelerator": "none",
   "dataSources": [
    {
     "sourceId": 167796716,
     "sourceType": "kernelVersion"
    },
    {
     "sourceId": 167796934,
     "sourceType": "kernelVersion"
    },
    {
     "sourceId": 167796952,
     "sourceType": "kernelVersion"
    },
    {
     "sourceId": 167796969,
     "sourceType": "kernelVersion"
    }
   ],
   "isGpuEnabled": false,
   "isInternetEnabled": true,
   "language": "python",
   "sourceType": "notebook"
  },
  "kernelspec": {
   "display_name": "Python 3",
   "language": "python",
   "name": "python3"
  },
  "language_info": {
   "codemirror_mode": {
    "name": "ipython",
    "version": 3
   },
   "file_extension": ".py",
   "mimetype": "text/x-python",
   "name": "python",
   "nbconvert_exporter": "python",
   "pygments_lexer": "ipython3",
   "version": "3.11.9"
  },
  "papermill": {
   "default_parameters": {},
   "duration": 458.423327,
   "end_time": "2024-03-22T17:31:18.077306",
   "environment_variables": {},
   "exception": null,
   "input_path": "__notebook__.ipynb",
   "output_path": "__notebook__.ipynb",
   "parameters": {},
   "start_time": "2024-03-22T17:23:39.653979",
   "version": "2.5.0"
  }
 },
 "nbformat": 4,
 "nbformat_minor": 5
}
