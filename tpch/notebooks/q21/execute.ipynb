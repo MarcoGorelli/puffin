{
 "cells": [
  {
   "cell_type": "code",
   "execution_count": null,
   "id": "a2d31d62",
   "metadata": {
    "execution": {
     "iopub.execute_input": "2024-06-20T09:38:36.133988Z",
     "iopub.status.busy": "2024-06-20T09:38:36.133480Z",
     "iopub.status.idle": "2024-06-20T09:39:32.177648Z",
     "shell.execute_reply": "2024-06-20T09:39:32.175940Z"
    },
    "papermill": {
     "duration": 56.056574,
     "end_time": "2024-06-20T09:39:32.181310",
     "exception": false,
     "start_time": "2024-06-20T09:38:36.124736",
     "status": "completed"
    },
    "tags": []
   },
   "outputs": [],
   "source": [
    "!pip uninstall apache-beam -y && pip install -U pandas polars pyarrow narwhals"
   ]
  },
  {
   "cell_type": "code",
   "execution_count": 2,
   "id": "5850863e",
   "metadata": {
    "execution": {
     "iopub.execute_input": "2024-06-20T09:39:32.209729Z",
     "iopub.status.busy": "2024-06-20T09:39:32.209174Z",
     "iopub.status.idle": "2024-06-20T09:39:32.902038Z",
     "shell.execute_reply": "2024-06-20T09:39:32.900898Z"
    },
    "papermill": {
     "duration": 0.710694,
     "end_time": "2024-06-20T09:39:32.905246",
     "exception": false,
     "start_time": "2024-06-20T09:39:32.194552",
     "status": "completed"
    },
    "tags": []
   },
   "outputs": [],
   "source": [
    "from typing import Any\n",
    "from datetime import date\n",
    "\n",
    "import narwhals as nw\n",
    "\n",
    "import pandas as pd\n",
    "import polars as pl\n",
    "\n",
    "pd.options.mode.copy_on_write = True\n",
    "pd.options.future.infer_string = True"
   ]
  },
  {
   "cell_type": "code",
   "execution_count": 3,
   "id": "a5f3bafc",
   "metadata": {
    "execution": {
     "iopub.execute_input": "2024-06-20T09:39:32.933705Z",
     "iopub.status.busy": "2024-06-20T09:39:32.932286Z",
     "iopub.status.idle": "2024-06-20T09:39:32.940006Z",
     "shell.execute_reply": "2024-06-20T09:39:32.938779Z"
    },
    "papermill": {
     "duration": 0.024919,
     "end_time": "2024-06-20T09:39:32.942659",
     "exception": false,
     "start_time": "2024-06-20T09:39:32.917740",
     "status": "completed"
    },
    "tags": []
   },
   "outputs": [],
   "source": [
    "Q_NUM = 21\n",
    "\n",
    "IO_FUNCS = {\n",
    "    'pandas': lambda x: pd.read_parquet(x, engine='pyarrow'),\n",
    "    'pandas[pyarrow]': lambda x: pd.read_parquet(x, engine='pyarrow', dtype_backend='pyarrow'),\n",
    "    'polars[eager]': lambda x: pl.read_parquet(x),\n",
    "    'polars[lazy]': lambda x: pl.scan_parquet(x),\n",
    "}"
   ]
  },
  {
   "cell_type": "code",
   "execution_count": 4,
   "id": "cc9c20f2",
   "metadata": {
    "execution": {
     "iopub.execute_input": "2024-06-20T09:39:32.972474Z",
     "iopub.status.busy": "2024-06-20T09:39:32.971778Z",
     "iopub.status.idle": "2024-06-20T09:39:32.987184Z",
     "shell.execute_reply": "2024-06-20T09:39:32.985631Z"
    },
    "papermill": {
     "duration": 0.034054,
     "end_time": "2024-06-20T09:39:32.990409",
     "exception": false,
     "start_time": "2024-06-20T09:39:32.956355",
     "status": "completed"
    },
    "tags": []
   },
   "outputs": [],
   "source": [
    "def q21(\n",
    "    lineitem_raw: Any,\n",
    "    nation_raw: Any,\n",
    "    orders_raw: Any,\n",
    "    supplier_raw: Any,\n",
    ") -> Any:\n",
    "    \n",
    "    lineitem = nw.from_native(lineitem_raw)\n",
    "    nation = nw.from_native(nation_raw)\n",
    "    orders = nw.from_native(orders_raw)\n",
    "    supplier = nw.from_native(supplier_raw)\n",
    "    \n",
    "    var1 = \"SAUDI ARABIA\"\n",
    "    \n",
    "    \n",
    "    q1 = (\n",
    "        lineitem.group_by(\"l_orderkey\")\n",
    "#         .agg(nw.col(\"l_suppkey\").len().alias(\"n_supp_by_order\"))\n",
    "        .agg(nw.len().alias(\"n_supp_by_order\"))\n",
    "        .filter(nw.col(\"n_supp_by_order\") > 1)\n",
    "        .join(\n",
    "            lineitem.filter(nw.col(\"l_receiptdate\") > nw.col(\"l_commitdate\")),\n",
    "#             on=\"l_orderkey\",\n",
    "            left_on=\"l_orderkey\", right_on=\"l_orderkey\",\n",
    "        )\n",
    "    )\n",
    "\n",
    "    q_final = (\n",
    "        q1.group_by(\"l_orderkey\")\n",
    "#         .agg(nw.col(\"l_suppkey\").len().alias(\"n_supp_by_order\"))\n",
    "        .agg(nw.len().alias(\"n_supp_by_order\"))\n",
    "        .join(q1, left_on=\"l_orderkey\", right_on=\"l_orderkey\"\n",
    "              #on=\"l_orderkey\"\n",
    "             )\n",
    "        .join(supplier, left_on=\"l_suppkey\", right_on=\"s_suppkey\")\n",
    "        .join(nation, left_on=\"s_nationkey\", right_on=\"n_nationkey\")\n",
    "        .join(orders, left_on=\"l_orderkey\", right_on=\"o_orderkey\")\n",
    "        .filter(nw.col(\"n_supp_by_order\") == 1)\n",
    "        .filter(nw.col(\"n_name\") == var1)\n",
    "        .filter(nw.col(\"o_orderstatus\") == \"F\")\n",
    "        .group_by(\"s_name\")\n",
    "        .agg(nw.len().alias(\"numwait\"))\n",
    "        .sort(by=[\"numwait\", \"s_name\"], descending=[True, False])\n",
    "        .head(100)\n",
    "    )\n",
    "    return nw.to_native(q_final)"
   ]
  },
  {
   "cell_type": "code",
   "execution_count": 5,
   "id": "ca002e31",
   "metadata": {
    "execution": {
     "iopub.execute_input": "2024-06-20T09:39:33.018270Z",
     "iopub.status.busy": "2024-06-20T09:39:33.017763Z",
     "iopub.status.idle": "2024-06-20T09:39:33.024306Z",
     "shell.execute_reply": "2024-06-20T09:39:33.022908Z"
    },
    "papermill": {
     "duration": 0.023895,
     "end_time": "2024-06-20T09:39:33.027127",
     "exception": false,
     "start_time": "2024-06-20T09:39:33.003232",
     "status": "completed"
    },
    "tags": []
   },
   "outputs": [],
   "source": [
    "dir_ = \"/kaggle/input/tpc-h-data-parquet-s-2/\"\n",
    "\n",
    "lineitem = dir_ + 'lineitem.parquet'\n",
    "nation = dir_ + 'nation.parquet'\n",
    "orders = dir_ + 'orders.parquet'\n",
    "supplier = dir_ + 'supplier.parquet'"
   ]
  },
  {
   "cell_type": "code",
   "execution_count": 6,
   "id": "f9a22a5e",
   "metadata": {
    "execution": {
     "iopub.execute_input": "2024-06-20T09:39:33.055687Z",
     "iopub.status.busy": "2024-06-20T09:39:33.055197Z",
     "iopub.status.idle": "2024-06-20T09:39:33.061187Z",
     "shell.execute_reply": "2024-06-20T09:39:33.059858Z"
    },
    "papermill": {
     "duration": 0.023307,
     "end_time": "2024-06-20T09:39:33.064042",
     "exception": false,
     "start_time": "2024-06-20T09:39:33.040735",
     "status": "completed"
    },
    "tags": []
   },
   "outputs": [],
   "source": [
    "results = {}"
   ]
  },
  {
   "cell_type": "markdown",
   "id": "f102e70d",
   "metadata": {
    "papermill": {
     "duration": 0.013315,
     "end_time": "2024-06-20T09:39:33.090039",
     "exception": false,
     "start_time": "2024-06-20T09:39:33.076724",
     "status": "completed"
    },
    "tags": []
   },
   "source": [
    "## pandas via Narwhals"
   ]
  },
  {
   "cell_type": "code",
   "execution_count": 7,
   "id": "2017a90d",
   "metadata": {
    "execution": {
     "iopub.execute_input": "2024-06-20T09:39:33.117801Z",
     "iopub.status.busy": "2024-06-20T09:39:33.117285Z",
     "iopub.status.idle": "2024-06-20T09:42:07.030238Z",
     "shell.execute_reply": "2024-06-20T09:42:07.028535Z"
    },
    "papermill": {
     "duration": 153.948657,
     "end_time": "2024-06-20T09:42:07.051286",
     "exception": false,
     "start_time": "2024-06-20T09:39:33.102629",
     "status": "completed"
    },
    "tags": []
   },
   "outputs": [
    {
     "name": "stdout",
     "output_type": "stream",
     "text": [
      "18.5 s ± 5.39 s per loop (mean ± std. dev. of 7 runs, 1 loop each)\n"
     ]
    }
   ],
   "source": [
    "tool = 'pandas'\n",
    "fn = IO_FUNCS[tool]\n",
    "\n",
    "lineitem_raw, nation_raw, orders_raw, supplier_raw = fn(lineitem), fn(nation), fn(orders), fn(supplier)\n",
    "\n",
    "timings = %timeit -o q21(lineitem_raw, nation_raw, orders_raw, supplier_raw)\n",
    "results[tool] = timings.all_runs"
   ]
  },
  {
   "cell_type": "markdown",
   "id": "3a7dd624",
   "metadata": {
    "papermill": {
     "duration": 0.012282,
     "end_time": "2024-06-20T09:42:07.077095",
     "exception": false,
     "start_time": "2024-06-20T09:42:07.064813",
     "status": "completed"
    },
    "tags": []
   },
   "source": [
    "## pandas, pyarrow dtypes, via Narwhals"
   ]
  },
  {
   "cell_type": "code",
   "execution_count": 8,
   "id": "c63eeb53",
   "metadata": {
    "execution": {
     "iopub.execute_input": "2024-06-20T09:42:07.105023Z",
     "iopub.status.busy": "2024-06-20T09:42:07.104553Z",
     "iopub.status.idle": "2024-06-20T09:44:25.438588Z",
     "shell.execute_reply": "2024-06-20T09:44:25.437382Z"
    },
    "papermill": {
     "duration": 138.36459,
     "end_time": "2024-06-20T09:44:25.454188",
     "exception": false,
     "start_time": "2024-06-20T09:42:07.089598",
     "status": "completed"
    },
    "tags": []
   },
   "outputs": [
    {
     "name": "stdout",
     "output_type": "stream",
     "text": [
      "16.7 s ± 368 ms per loop (mean ± std. dev. of 7 runs, 1 loop each)\n"
     ]
    }
   ],
   "source": [
    "tool = 'pandas[pyarrow]'\n",
    "fn = IO_FUNCS[tool]\n",
    "lineitem_raw, nation_raw, orders_raw, supplier_raw = fn(lineitem), fn(nation), fn(orders), fn(supplier)\n",
    "\n",
    "timings = %timeit -o q21(lineitem_raw, nation_raw, orders_raw, supplier_raw)\n",
    "results[tool] = timings.all_runs"
   ]
  },
  {
   "cell_type": "markdown",
   "id": "e65f84ac",
   "metadata": {
    "papermill": {
     "duration": 0.012075,
     "end_time": "2024-06-20T09:44:25.478725",
     "exception": false,
     "start_time": "2024-06-20T09:44:25.466650",
     "status": "completed"
    },
    "tags": []
   },
   "source": [
    "## Polars read_parquet"
   ]
  },
  {
   "cell_type": "code",
   "execution_count": 9,
   "id": "dfe7344e",
   "metadata": {
    "execution": {
     "iopub.execute_input": "2024-06-20T09:44:25.506588Z",
     "iopub.status.busy": "2024-06-20T09:44:25.505450Z",
     "iopub.status.idle": "2024-06-20T09:45:54.964421Z",
     "shell.execute_reply": "2024-06-20T09:45:54.963196Z"
    },
    "papermill": {
     "duration": 89.487638,
     "end_time": "2024-06-20T09:45:54.978758",
     "exception": false,
     "start_time": "2024-06-20T09:44:25.491120",
     "status": "completed"
    },
    "tags": []
   },
   "outputs": [
    {
     "name": "stdout",
     "output_type": "stream",
     "text": [
      "10.7 s ± 157 ms per loop (mean ± std. dev. of 7 runs, 1 loop each)\n"
     ]
    }
   ],
   "source": [
    "tool = 'polars[eager]'\n",
    "fn = IO_FUNCS[tool]\n",
    "\n",
    "lineitem_raw, nation_raw, orders_raw, supplier_raw = fn(lineitem), fn(nation), fn(orders), fn(supplier)\n",
    "timings = %timeit -o q21(lineitem_raw, nation_raw, orders_raw, supplier_raw)\n",
    "results[tool] = timings.all_runs"
   ]
  },
  {
   "cell_type": "markdown",
   "id": "2804ca20",
   "metadata": {
    "papermill": {
     "duration": 0.011745,
     "end_time": "2024-06-20T09:45:55.002962",
     "exception": false,
     "start_time": "2024-06-20T09:45:54.991217",
     "status": "completed"
    },
    "tags": []
   },
   "source": [
    "## Polars scan_parquet"
   ]
  },
  {
   "cell_type": "code",
   "execution_count": 10,
   "id": "f2d5d1fa",
   "metadata": {
    "execution": {
     "iopub.execute_input": "2024-06-20T09:45:55.030906Z",
     "iopub.status.busy": "2024-06-20T09:45:55.029629Z",
     "iopub.status.idle": "2024-06-20T09:46:18.563190Z",
     "shell.execute_reply": "2024-06-20T09:46:18.561674Z"
    },
    "papermill": {
     "duration": 23.550631,
     "end_time": "2024-06-20T09:46:18.566271",
     "exception": false,
     "start_time": "2024-06-20T09:45:55.015640",
     "status": "completed"
    },
    "tags": []
   },
   "outputs": [
    {
     "name": "stdout",
     "output_type": "stream",
     "text": [
      "2.92 s ± 135 ms per loop (mean ± std. dev. of 7 runs, 1 loop each)\n"
     ]
    }
   ],
   "source": [
    "tool = 'polars[lazy]'\n",
    "fn = IO_FUNCS[tool]\n",
    "\n",
    "lineitem_raw, nation_raw, orders_raw, supplier_raw = fn(lineitem), fn(nation), fn(orders), fn(supplier)\n",
    "timings = %timeit -o q21(lineitem_raw, nation_raw, orders_raw, supplier_raw).collect()\n",
    "results[tool] = timings.all_runs"
   ]
  },
  {
   "cell_type": "markdown",
   "id": "bc7e4841",
   "metadata": {
    "papermill": {
     "duration": 0.012321,
     "end_time": "2024-06-20T09:46:18.591255",
     "exception": false,
     "start_time": "2024-06-20T09:46:18.578934",
     "status": "completed"
    },
    "tags": []
   },
   "source": [
    "## Save"
   ]
  },
  {
   "cell_type": "code",
   "execution_count": 11,
   "id": "ed3f2454",
   "metadata": {
    "execution": {
     "iopub.execute_input": "2024-06-20T09:46:18.619211Z",
     "iopub.status.busy": "2024-06-20T09:46:18.617761Z",
     "iopub.status.idle": "2024-06-20T09:46:18.624971Z",
     "shell.execute_reply": "2024-06-20T09:46:18.623769Z"
    },
    "papermill": {
     "duration": 0.023933,
     "end_time": "2024-06-20T09:46:18.627709",
     "exception": false,
     "start_time": "2024-06-20T09:46:18.603776",
     "status": "completed"
    },
    "tags": []
   },
   "outputs": [],
   "source": [
    "import json\n",
    "with open('results.json', 'w') as fd:\n",
    "    json.dump(results, fd)"
   ]
  },
  {
   "cell_type": "code",
   "execution_count": 12,
   "id": "756cc383",
   "metadata": {
    "execution": {
     "iopub.execute_input": "2024-06-20T09:46:18.655332Z",
     "iopub.status.busy": "2024-06-20T09:46:18.654903Z",
     "iopub.status.idle": "2024-06-20T09:46:18.663367Z",
     "shell.execute_reply": "2024-06-20T09:46:18.662067Z"
    },
    "papermill": {
     "duration": 0.02616,
     "end_time": "2024-06-20T09:46:18.666732",
     "exception": false,
     "start_time": "2024-06-20T09:46:18.640572",
     "status": "completed"
    },
    "tags": []
   },
   "outputs": [
    {
     "name": "stdout",
     "output_type": "stream",
     "text": [
      "{'pandas': [14.536162291999972,\n",
      "            28.61268175500004,\n",
      "            25.131280856000103,\n",
      "            15.984822283000085,\n",
      "            15.986703961000103,\n",
      "            14.77401841599999,\n",
      "            14.613077059000034],\n",
      " 'pandas[pyarrow]': [16.43704511399983,\n",
      "                     17.436027875000036,\n",
      "                     16.616333898999983,\n",
      "                     16.929478356000118,\n",
      "                     16.75605714900007,\n",
      "                     16.174442130999978,\n",
      "                     16.778590352000037],\n",
      " 'polars[eager]': [10.55738047900013,\n",
      "                   10.522792472999981,\n",
      "                   10.959035934999974,\n",
      "                   10.62960384400003,\n",
      "                   10.635097036999923,\n",
      "                   10.881635524000103,\n",
      "                   10.81637764800007],\n",
      " 'polars[lazy]': [2.9100079499999083,\n",
      "                  2.8206382559999383,\n",
      "                  2.8398498980000113,\n",
      "                  2.848305809000067,\n",
      "                  3.236310110999966,\n",
      "                  2.9333060139999816,\n",
      "                  2.8448488100000304]}\n"
     ]
    }
   ],
   "source": [
    "from pprint import pprint\n",
    "\n",
    "pprint(results)"
   ]
  }
 ],
 "metadata": {
  "kaggle": {
   "accelerator": "none",
   "dataSources": [
    {
     "sourceId": 167796934,
     "sourceType": "kernelVersion"
    }
   ],
   "dockerImageVersionId": 30673,
   "isGpuEnabled": false,
   "isInternetEnabled": true,
   "language": "python",
   "sourceType": "notebook"
  },
  "kernelspec": {
   "display_name": "Python 3",
   "language": "python",
   "name": "python3"
  },
  "language_info": {
   "codemirror_mode": {
    "name": "ipython",
    "version": 3
   },
   "file_extension": ".py",
   "mimetype": "text/x-python",
   "name": "python",
   "nbconvert_exporter": "python",
   "pygments_lexer": "ipython3",
   "version": "3.10.13"
  },
  "papermill": {
   "default_parameters": {},
   "duration": 466.953302,
   "end_time": "2024-06-20T09:46:19.507794",
   "environment_variables": {},
   "exception": null,
   "input_path": "__notebook__.ipynb",
   "output_path": "__notebook__.ipynb",
   "parameters": {},
   "start_time": "2024-06-20T09:38:32.554492",
   "version": "2.5.0"
  }
 },
 "nbformat": 4,
 "nbformat_minor": 5
}
