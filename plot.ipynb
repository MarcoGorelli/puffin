{
 "cells": [
  {
   "cell_type": "markdown",
   "metadata": {},
   "source": [
    "# Chart Visualization\n",
    "\n",
    "The examples below assumes that you are using Jupyter"
   ]
  },
  {
   "cell_type": "code",
   "execution_count": null,
   "metadata": {},
   "outputs": [],
   "source": [
    "import narwhals as nw\n",
    "import pandas as pd\n",
    "import polars as pl\n",
    "import matplotlib.pyplot as plt\n",
    "import csv\n"
   ]
  },
  {
   "cell_type": "code",
   "execution_count": null,
   "metadata": {},
   "outputs": [],
   "source": [
    "data = pl.read_csv('docs/basics/data/population.csv')\n",
    "\n",
    "def func(df_any):\n",
    "    df_nw = nw.from_native(df_any)   \n",
    "    df = df_nw.select(\n",
    "        a_sum = nw.col('Population (historical estimates)')\n",
    "    )    \n",
    "\n",
    "    return nw.to_native(df)\n",
    "func(data)"
   ]
  },
  {
   "cell_type": "code",
   "execution_count": null,
   "metadata": {},
   "outputs": [],
   "source": [
    "'''\n",
    "Import the data for the demonstration\n",
    "'''\n",
    "data = pl.read_csv('docs/basics/data/population.csv')\n",
    "\n",
    "country_list = []\n",
    "\n",
    "with open('docs/basics/data/data.csv', 'r') as file:\n",
    "    csv_reader = csv.reader(file)\n",
    "    for row in csv_reader:\n",
    "        country_list.append(row[0])\n"
   ]
  },
  {
   "cell_type": "code",
   "execution_count": null,
   "metadata": {},
   "outputs": [],
   "source": [
    "@nw.narwhalify\n",
    "def filter_rows(df_any):\n",
    "    df = df_any.rename({\"Population (historical estimates)\": \"Population\"})\n",
    "\n",
    "    is_country = df.with_columns(is_country=nw.col(\"Entity\").is_in(country_list)).filter(nw.col('is_country') & nw.col('Year') > 0)\n",
    "\n",
    "    return is_country.group_by(['Year']).agg(nw.col('Population').sum().alias('Global Population')).sort('Year')"
   ]
  },
  {
   "cell_type": "code",
   "execution_count": null,
   "metadata": {},
   "outputs": [],
   "source": [
    "pd_df = filter_rows(data)"
   ]
  },
  {
   "cell_type": "code",
   "execution_count": null,
   "metadata": {},
   "outputs": [],
   "source": [
    "def plot_population_line(df_any):\n",
    "    df = nw.from_native(df_any)\n",
    "    plt.figure(figsize=(10, 5), layout = 'constrained', )\n",
    "    plt.plot(df['Year'], df['Global Population'].to_numpy(), label = 'Population Growth', linewidth=1, marker='o', markersize=2, color='purple')\n",
    "    plt.ylabel('Global Population in Billions')\n",
    "    plt.xlabel('Years')\n",
    "    plt.title('Global Population (1555 - 2021)')\n",
    "    plt.legend()\n",
    "\n",
    "    max_population = df['Global Population'].max()\n",
    "    max_year = df['Year'].max()\n",
    "    unit = 1000000000\n",
    "\n",
    "    plt.annotate(f'Max: {max_population/unit:.2f}B', xy=(max_year, max_population), \n",
    "                xytext=(-90, -10), textcoords='offset points', ha='left', va='bottom',\n",
    "                bbox=dict(boxstyle='round,pad=0.5', fc='blue', alpha=0.2),\n",
    "                arrowprops=dict(arrowstyle='->', connectionstyle='arc3,rad=0'))\n"
   ]
  },
  {
   "cell_type": "code",
   "execution_count": null,
   "metadata": {},
   "outputs": [],
   "source": [
    "plot_population_line(pd_df)"
   ]
  },
  {
   "cell_type": "code",
   "execution_count": null,
   "metadata": {},
   "outputs": [],
   "source": [
    "def plot_population_bar(df_any):\n",
    "    pass"
   ]
  },
  {
   "cell_type": "code",
   "execution_count": null,
   "metadata": {},
   "outputs": [],
   "source": [
    "def func(df_any):\n",
    "    df = nw.from_native(df_any)\n",
    "    countries = ('Nigeria', 'United Kingdom', 'United States')\n",
    "    df = df.rename({\"Population (historical estimates)\": \"Population\"})\n",
    "\n",
    "    is_country = df.with_columns(is_country=nw.col(\"Entity\").is_in(countries)).filter(nw.col('is_country') & nw.col('Year') > 0)\n",
    "\n",
    "    df = is_country.group_by(['Entity']).agg(nw.col('Population').max().alias('Max Population'),\n",
    "                                             nw.col('Population').min().alias('Min Population'),\n",
    "                                             nw.col('Population').std().alias('Std Population'),\n",
    "                                             nw.col('Population').mean().alias('Mean Population')).sort('Entity')\n",
    "\n",
    "    return nw.to_native(df)\n",
    "\n",
    "print(func(data))\n"
   ]
  },
  {
   "cell_type": "code",
   "execution_count": null,
   "metadata": {},
   "outputs": [],
   "source": [
    "# def plot_population_bar(df_any):\n",
    "#     cols = ['Max Population', 'Min Population', 'Std Population', 'Mean Population']\n",
    "#     df = nw.from_native(df_any)\n",
    "#     for label in cols:\n",
    "#         plt.hist(nw.col('Entity') == 'Nigeria'[label], color='green', label='Nigeria', alpha=0.7, density=True)\n",
    "#         plt.hist(df[df['Entity'] == 'United States'][label], color='blue', label='United States', alpha=0.7, density=True)\n",
    "#         plt.hist(df[df['Entity'] == 'United Kingdom'][label], color='yellow', label='United Kingdom', alpha=0.7, density=True)\n",
    "#         plt.legend()\n",
    "#         plt.show()\n",
    "\n",
    "# plot_population_bar(func(data))"
   ]
  },
  {
   "cell_type": "code",
   "execution_count": null,
   "metadata": {},
   "outputs": [],
   "source": [
    "import narwhals as nw\n",
    "import matplotlib.pyplot as plt\n",
    "import pandas as pd\n",
    "import polars as pl\n",
    "\n",
    "data2 = {'Player': ['David De Gea', 'Paul Pogba', 'Edinson Cavani', 'Anthony Martial', 'Marcus Rashford', 'Cristiano Ronaldo'], 'Annual Salary': [19500000, 15080000, 13000000, 13000000, 10400000, 26800000]}\n",
    "\n",
    "pd_df = pd.DataFrame(data2)\n",
    "\n",
    "def plot_bar(df_any):\n",
    "    df = nw.from_native(df_any)\n",
    "    y = df['Annual Salary'].to_numpy()\n",
    "    x = df['Player'].to_numpy()\n",
    "    \n",
    "\n",
    "    # Create the bar plot\n",
    "    plt.figure(figsize=(10, 6))\n",
    "    colors = ['#1f77b4', '#ff7f0e', '#2ca02c', '#d62728', '#9467bd', '#8c564b']\n",
    "    plt.bar(x, y, color=colors, width=0.8)\n",
    "\n",
    "    # Add labels and title\n",
    "    plt.xlabel('Football Player', labelpad=(10))\n",
    "    plt.ylabel('Annual Salary in Tens of Millions (USD)', labelpad=(10))\n",
    "    plt.title(\"Player's Annual Salary\")\n",
    "    plt.xticks(rotation = 10)\n",
    "\n",
    "    # Add labels on the bars\n",
    "    for i in range(len(x)):\n",
    "            plt.text(i, y[i], y[i], ha = 'center', va = 'bottom')\n",
    "\n",
    "plot_bar(pd_df)\n"
   ]
  },
  {
   "cell_type": "code",
   "execution_count": null,
   "metadata": {},
   "outputs": [],
   "source": [
    "# import matplotlib.pyplot as plt\n",
    "\n",
    "\n",
    "\n",
    "# # Plot vertical bar graph\n",
    "# plt.figure(figsize=(8, 6))\n",
    "# plt.bar(df['Category'], df['Values'], color='skyblue')\n",
    "# plt.xlabel('Category')\n",
    "# plt.ylabel('Values')\n",
    "# plt.title('Vertical Bar Graph')\n",
    "# plt.show()\n"
   ]
  }
 ],
 "metadata": {
  "kernelspec": {
   "display_name": ".venv",
   "language": "python",
   "name": "python3"
  },
  "language_info": {
   "codemirror_mode": {
    "name": "ipython",
    "version": 3
   },
   "file_extension": ".py",
   "mimetype": "text/x-python",
   "name": "python",
   "nbconvert_exporter": "python",
   "pygments_lexer": "ipython3",
   "version": "3.12.4"
  }
 },
 "nbformat": 4,
 "nbformat_minor": 2
}
